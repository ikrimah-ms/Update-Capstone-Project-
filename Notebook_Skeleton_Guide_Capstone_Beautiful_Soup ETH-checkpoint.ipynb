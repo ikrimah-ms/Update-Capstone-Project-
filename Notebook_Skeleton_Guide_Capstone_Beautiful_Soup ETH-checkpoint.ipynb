{
 "cells": [
  {
   "cell_type": "markdown",
   "metadata": {
    "id": "eW4C-BjpAfVQ"
   },
   "source": [
    "# Capstone Webscrapping using BeautifulSoup\n",
    "\n",
    "This notebook contains guidances & tasks on the data processing for the application\n",
    "\n",
    "## background\n",
    "\n",
    "![image.png](attachment:image.png)\n",
    "\n",
    "## Requesting the Data and Creating a BeautifulSoup\n",
    "\n",
    "Let's begin with requesting the web from the site with `get` method. In these code lines below I `import library` and using `get` to download html code from the url link."
   ]
  },
  {
   "cell_type": "code",
   "execution_count": 4,
   "metadata": {
    "id": "qWEam8b9AfVW"
   },
   "outputs": [],
   "source": [
    "import requests\n",
    "from bs4 import BeautifulSoup\n",
    "import pandas as pd\n",
    "import matplotlib.pyplot as plt"
   ]
  },
  {
   "cell_type": "code",
   "execution_count": 5,
   "metadata": {
    "ExecuteTime": {
     "end_time": "2020-01-13T05:12:23.275508Z",
     "start_time": "2020-01-13T05:12:20.009898Z"
    },
    "id": "ZJ9HEgNQAfVX"
   },
   "outputs": [],
   "source": [
    "url_get = requests.get('https://www.coingecko.com/en/coins/ethereum/historical_data#panel',  headers = { 'User-Agent': 'Popular browser\\'s user-agent', })"
   ]
  },
  {
   "cell_type": "markdown",
   "metadata": {
    "id": "4LKPQJqHAfVY"
   },
   "source": [
    "To visualize what exactly you get from the `request.get`, we can use .content so ee what we exactly get, in here i slice it so it won't make our screen full of the html we get from the page. You can delete the slicing if you want to see what we fully get."
   ]
  },
  {
   "cell_type": "code",
   "execution_count": 6,
   "metadata": {
    "ExecuteTime": {
     "end_time": "2020-01-13T05:12:23.290648Z",
     "start_time": "2020-01-13T05:12:23.277650Z"
    },
    "colab": {
     "base_uri": "https://localhost:8080/"
    },
    "id": "HSP6p6-AAfVZ",
    "outputId": "599c2257-81cd-4235-cb17-900a46f6b46d"
   },
   "outputs": [
    {
     "data": {
      "text/plain": [
       "b'!DOCTYPE html>\\n<html lang=\"en\">\\n<head>\\n<script src=\"/cdn-cgi/apps/head/gYtXOyllgyP3-Z2iKTP8rRWGBm4.js\"></script><script async defer src=\"https://www.googleoptimize.com/optimize.js?id=GTM-W3CD992\"></script>\\n<meta charset=\"utf-8\">\\n<meta http-equiv=\"X-UA-Compatible\" content=\"IE=edge\">\\n<script>window.NREUM||(NREUM={});NREUM.info={\"beacon\":\"bam.nr-data.net\",\"errorBeacon\":\"bam.nr-data.net\",\"licenseKey\":\"cd4a6493ab\",\"applicationID\":\"83495717\",\"transactionName\":\"dV5dRBNcDlkEEU5SDF9fQB8JWhFBDhEIUgJabldR'"
      ]
     },
     "execution_count": 6,
     "metadata": {},
     "output_type": "execute_result"
    }
   ],
   "source": [
    "url_get.content[1:500]"
   ]
  },
  {
   "cell_type": "markdown",
   "metadata": {
    "id": "ejAAoBh1AfVa"
   },
   "source": [
    "As we can see we get a very unstructured and complex html, which actually contains the codes needed to show the webpages on your web browser. But we as human still confused what and where we can use that piece of code, so here where we use the beautifulsoup. Beautiful soup class will result a beautifulsoup object. Beautiful Soup transforms a complex HTML document into a complex tree of Python objects. \n",
    "\n",
    "Let's make Beautiful soup object and feel free to explore the object here."
   ]
  },
  {
   "cell_type": "code",
   "execution_count": 7,
   "metadata": {
    "ExecuteTime": {
     "end_time": "2020-01-13T05:12:23.808122Z",
     "start_time": "2020-01-13T05:12:23.292610Z"
    },
    "colab": {
     "base_uri": "https://localhost:8080/"
    },
    "id": "bfo2KT3KAfVa",
    "outputId": "5d08c37c-a756-44f5-856c-2e8818c21e86"
   },
   "outputs": [
    {
     "name": "stdout",
     "output_type": "stream",
     "text": [
      "<class 'bs4.BeautifulSoup'>\n"
     ]
    }
   ],
   "source": [
    "soup = BeautifulSoup(url_get.content,\"html.parser\")\n",
    "print(type(soup))"
   ]
  },
  {
   "cell_type": "markdown",
   "metadata": {
    "id": "sLykqssDAfVb"
   },
   "source": [
    "## Finding the right key to scrap the data & Extracting the right information"
   ]
  },
  {
   "cell_type": "markdown",
   "metadata": {
    "id": "BDrRAeRQAfVc"
   },
   "source": [
    "![image.png](attachment:image.png)In this project we use '.find() to find the right (key) to extract enough information from the website. In the attached image, the data will be imported without header which encrypted with 'tbody' keyword."
   ]
  },
  {
   "cell_type": "code",
   "execution_count": 8,
   "metadata": {
    "ExecuteTime": {
     "end_time": "2020-01-13T05:12:23.878904Z",
     "start_time": "2020-01-13T05:12:23.854974Z"
    },
    "colab": {
     "base_uri": "https://localhost:8080/"
    },
    "id": "Jnsske0oAfVc",
    "outputId": "6de6473a-2193-40e5-a746-07f92edc3c51"
   },
   "outputs": [
    {
     "name": "stdout",
     "output_type": "stream",
     "text": [
      "tbody>\n",
      " <tr>\n",
      "  <th class=\"font-semibold text-center\" scope=\"row\">\n",
      "   2022-10-14\n",
      "  </th>\n",
      "  <td class=\"text-center\">\n",
      "   $155,703,285,134\n",
      "  </td>\n",
      "  <td class=\"text-center\">\n",
      "   $15,374,968,703\n",
      "  </td>\n",
      "  <td class=\"text-center\">\n",
      "   $1,288.16\n",
      "  </td>\n",
      "  <td class=\"text-center\">\n",
      "   N/A\n",
      "  </td>\n",
      " </tr>\n",
      " <tr>\n",
      "  <th class=\"font-semibold text-center\" scope=\"row\">\n",
      "   2022-10-13\n",
      "  </th>\n",
      "  <td class=\"text-center\">\n",
      "   $156,488,571,589\n",
      "  </td>\n",
      "  <td class=\"text-center\">\n",
      "   $7,512,521,120\n",
      "  </td>\n",
      "  <td class=\"tex\n"
     ]
    }
   ],
   "source": [
    "table = soup.find('tbody')\n",
    "print(table.prettify()[1:500])"
   ]
  },
  {
   "cell_type": "markdown",
   "metadata": {
    "id": "spldIn3ZAfVd"
   },
   "source": [
    "Finding row length."
   ]
  },
  {
   "cell_type": "code",
   "execution_count": 9,
   "metadata": {
    "colab": {
     "base_uri": "https://localhost:8080/",
     "height": 35
    },
    "id": "3tw3j_8LAfVe",
    "outputId": "b81ca784-c65f-476f-915c-4e3e335385b1"
   },
   "outputs": [
    {
     "data": {
      "text/plain": [
       "'2022-10-14'"
      ]
     },
     "execution_count": 9,
     "metadata": {},
     "output_type": "execute_result"
    }
   ],
   "source": [
    "table.find_all('th', attrs={'class':\"font-semibold text-center\"})[0].text"
   ]
  },
  {
   "cell_type": "code",
   "execution_count": 10,
   "metadata": {
    "colab": {
     "base_uri": "https://localhost:8080/"
    },
    "id": "kGm2Ji7iAfVe",
    "outputId": "7b13a6c1-4a2f-475b-f7ea-ddb0161bc8e9"
   },
   "outputs": [
    {
     "data": {
      "text/plain": [
       "31"
      ]
     },
     "execution_count": 10,
     "metadata": {},
     "output_type": "execute_result"
    }
   ],
   "source": [
    "row = table.find_all('th', attrs={'class':\"font-semibold text-center\"})\n",
    "row_length = len(row)\n",
    "row_length"
   ]
  },
  {
   "cell_type": "code",
   "execution_count": 11,
   "metadata": {},
   "outputs": [
    {
     "data": {
      "text/plain": [
       "124"
      ]
     },
     "execution_count": 11,
     "metadata": {},
     "output_type": "execute_result"
    }
   ],
   "source": [
    "row2 = table.find_all('td', attrs={'class':'text-center'})\n",
    "row_length2 = len(row2)\n",
    "row_length2"
   ]
  },
  {
   "cell_type": "markdown",
   "metadata": {
    "id": "gUp6SnkIAfVf"
   },
   "source": [
    "In this scrapping process I use `th` to get date data and `find_all` to get all the date and volume data. I use `for` looping to iterate the process of data scrapping into array. Because the volume data occured every second order of `td` table, thus the volume data will be scrapped according to the series formula: 1 + i * 4 based on table row length index `i`. "
   ]
  },
  {
   "cell_type": "code",
   "execution_count": 12,
   "metadata": {
    "ExecuteTime": {
     "end_time": "2020-01-13T05:12:24.008256Z",
     "start_time": "2020-01-13T05:12:23.980358Z"
    },
    "colab": {
     "base_uri": "https://localhost:8080/"
    },
    "id": "5P2BWRIrAfVf",
    "outputId": "a5133ddd-aa9f-46be-a968-ecff999401bf"
   },
   "outputs": [
    {
     "data": {
      "text/plain": [
       "[('2022-10-14', '$15,374,968,703'),\n",
       " ('2022-10-13', '$7,512,521,120'),\n",
       " ('2022-10-12', '$8,314,705,467'),\n",
       " ('2022-10-11', '$7,492,362,033'),\n",
       " ('2022-10-10', '$4,753,165,268'),\n",
       " ('2022-10-09', '$4,942,603,338'),\n",
       " ('2022-10-08', '$9,123,112,356'),\n",
       " ('2022-10-07', '$10,653,358,725'),\n",
       " ('2022-10-06', '$8,502,549,882'),\n",
       " ('2022-10-05', '$8,587,836,597'),\n",
       " ('2022-10-04', '$8,749,663,555'),\n",
       " ('2022-10-03', '$6,227,268,236'),\n",
       " ('2022-10-02', '$5,052,407,841'),\n",
       " ('2022-10-01', '$11,849,125,784'),\n",
       " ('2022-09-30', '$11,834,328,252'),\n",
       " ('2022-09-29', '$16,571,161,476'),\n",
       " ('2022-09-28', '$16,685,874,856'),\n",
       " ('2022-09-27', '$15,270,197,376'),\n",
       " ('2022-09-26', '$10,552,647,870'),\n",
       " ('2022-09-25', '$11,251,326,609'),\n",
       " ('2022-09-24', '$17,599,766,731'),\n",
       " ('2022-09-23', '$17,517,188,721'),\n",
       " ('2022-09-22', '$18,732,743,242'),\n",
       " ('2022-09-21', '$13,605,986,462'),\n",
       " ('2022-09-20', '$17,757,533,838'),\n",
       " ('2022-09-19', '$14,696,599,277'),\n",
       " ('2022-09-18', '$10,309,763,882'),\n",
       " ('2022-09-17', '$17,892,819,035'),\n",
       " ('2022-09-16', '$24,787,864,367'),\n",
       " ('2022-09-15', '$17,198,033,718'),\n",
       " ('2022-09-14', '$22,286,700,927')]"
      ]
     },
     "execution_count": 12,
     "metadata": {},
     "output_type": "execute_result"
    }
   ],
   "source": [
    "temp = [] #init\n",
    "\n",
    "\n",
    "for i in range(0, row_length):\n",
    "    \n",
    "    #get date \n",
    "    date = table.find_all('th', attrs={'class':\"font-semibold text-center\"})[i].text\n",
    "    \n",
    "    #get volume\n",
    "    volume = table.find_all('td', attrs={'class':'text-center'})[1 + i * 4].text\n",
    "    volume = volume.strip() #to remove excess white space\n",
    "    \n",
    "    temp.append((date,volume))\n",
    "    \n",
    "temp"
   ]
  },
  {
   "cell_type": "markdown",
   "metadata": {
    "id": "VIfS6Q2DAfVg"
   },
   "source": [
    "## Creating data frame & Data wrangling"
   ]
  },
  {
   "cell_type": "markdown",
   "metadata": {
    "id": "wRAS0qRWAfVg"
   },
   "source": [
    "Put the array into dataframe"
   ]
  },
  {
   "cell_type": "code",
   "execution_count": 14,
   "metadata": {
    "ExecuteTime": {
     "end_time": "2020-01-13T05:12:41.517372Z",
     "start_time": "2020-01-13T05:12:29.130015Z"
    },
    "colab": {
     "base_uri": "https://localhost:8080/",
     "height": 206
    },
    "id": "hHnZypV4AfVg",
    "outputId": "8b9c5f02-a485-4589-ac95-9477f4cbda59"
   },
   "outputs": [
    {
     "data": {
      "text/html": [
       "<div>\n",
       "<style scoped>\n",
       "    .dataframe tbody tr th:only-of-type {\n",
       "        vertical-align: middle;\n",
       "    }\n",
       "\n",
       "    .dataframe tbody tr th {\n",
       "        vertical-align: top;\n",
       "    }\n",
       "\n",
       "    .dataframe thead th {\n",
       "        text-align: right;\n",
       "    }\n",
       "</style>\n",
       "<table border=\"1\" class=\"dataframe\">\n",
       "  <thead>\n",
       "    <tr style=\"text-align: right;\">\n",
       "      <th></th>\n",
       "      <th>date</th>\n",
       "      <th>volume</th>\n",
       "    </tr>\n",
       "  </thead>\n",
       "  <tbody>\n",
       "    <tr>\n",
       "      <th>0</th>\n",
       "      <td>2022-10-14</td>\n",
       "      <td>$15,374,968,703</td>\n",
       "    </tr>\n",
       "    <tr>\n",
       "      <th>1</th>\n",
       "      <td>2022-10-13</td>\n",
       "      <td>$7,512,521,120</td>\n",
       "    </tr>\n",
       "    <tr>\n",
       "      <th>2</th>\n",
       "      <td>2022-10-12</td>\n",
       "      <td>$8,314,705,467</td>\n",
       "    </tr>\n",
       "    <tr>\n",
       "      <th>3</th>\n",
       "      <td>2022-10-11</td>\n",
       "      <td>$7,492,362,033</td>\n",
       "    </tr>\n",
       "    <tr>\n",
       "      <th>4</th>\n",
       "      <td>2022-10-10</td>\n",
       "      <td>$4,753,165,268</td>\n",
       "    </tr>\n",
       "  </tbody>\n",
       "</table>\n",
       "</div>"
      ],
      "text/plain": [
       "         date           volume\n",
       "0  2022-10-14  $15,374,968,703\n",
       "1  2022-10-13   $7,512,521,120\n",
       "2  2022-10-12   $8,314,705,467\n",
       "3  2022-10-11   $7,492,362,033\n",
       "4  2022-10-10   $4,753,165,268"
      ]
     },
     "execution_count": 14,
     "metadata": {},
     "output_type": "execute_result"
    }
   ],
   "source": [
    "df = pd.DataFrame(temp, columns = ('date','volume'))\n",
    "\n",
    "df.head()"
   ]
  },
  {
   "cell_type": "markdown",
   "metadata": {
    "id": "tqs1HN8qAfVh"
   },
   "source": [
    "The `volume` value contains `$` character and spaces. Then, those characters removed using `replaced` function. \n",
    "\n",
    "The data type of `volume` then changed into `int`.\n",
    "\n",
    "The data type of `date` changed into `datetime64`."
   ]
  },
  {
   "cell_type": "code",
   "execution_count": 17,
   "metadata": {
    "ExecuteTime": {
     "end_time": "2020-01-13T05:12:59.165559Z",
     "start_time": "2020-01-13T05:12:58.910012Z"
    },
    "colab": {
     "base_uri": "https://localhost:8080/"
    },
    "id": "gzLv-S-kAfVh",
    "outputId": "15097c9a-246b-4ecd-c248-3e65188eed72"
   },
   "outputs": [
    {
     "name": "stderr",
     "output_type": "stream",
     "text": [
      "C:\\Users\\Rima Sugiarto\\AppData\\Local\\Temp\\ipykernel_10592\\3484270785.py:4: FutureWarning: The default value of regex will change from True to False in a future version. In addition, single character regular expressions will *not* be treated as literal strings when regex=True.\n",
      "  df['volume'] = df['volume'].str.replace(\"$\",\"\")\n"
     ]
    }
   ],
   "source": [
    "df['date'] = df['date'].astype('datetime64')\n",
    "df['volume'] = df['volume'].str.replace(\",\",\"\")\n",
    "\n",
    "df['volume'] = df['volume'].str.replace(\"$\",\"\")\n",
    "\n",
    "df['volume'] = df['volume'].astype('int64')"
   ]
  },
  {
   "cell_type": "code",
   "execution_count": null,
   "metadata": {},
   "outputs": [],
   "source": [
    "df_dv = df[['Date', 'Volume']]\n",
    "df_dv.head()"
   ]
  },
  {
   "cell_type": "code",
   "execution_count": 19,
   "metadata": {},
   "outputs": [],
   "source": [
    "def delete_dollar(x):\n",
    "  for i in x:\n",
    "    xx =  i.split('$')\n",
    "    return int(xx[1].replace(',',''))"
   ]
  },
  {
   "cell_type": "code",
   "execution_count": 20,
   "metadata": {
    "id": "OdbXQQoiAfVh"
   },
   "outputs": [],
   "source": [
    "%matplotlib inline"
   ]
  },
  {
   "cell_type": "code",
   "execution_count": 22,
   "metadata": {
    "colab": {
     "base_uri": "https://localhost:8080/",
     "height": 288
    },
    "id": "EkKleRPGAfVi",
    "outputId": "263d4229-8a8e-44bc-f0a5-b37b673afdb2"
   },
   "outputs": [
    {
     "data": {
      "text/plain": [
       "<AxesSubplot:xlabel='date'>"
      ]
     },
     "execution_count": 22,
     "metadata": {},
     "output_type": "execute_result"
    },
    {
     "data": {
      "image/png": "[encoded data removed]",
      "text/plain": [
       "<Figure size 2000x300 with 1 Axes>"
      ]
     },
     "metadata": {},
     "output_type": "display_data"
    }
   ],
   "source": [
    "plt.rcParams[\"figure.figsize\"] = (20,3)\n",
    "df.plot(alpha = 0.8, x = \"date\", y = \"volume\")"
   ]
  },
  {
   "cell_type": "markdown",
   "metadata": {
    "id": "b_ecyHsCAfVi"
   },
   "source": [
    "### Implementing your webscrapping to the flask dashboard\n",
    "\n",
    "- Copy paste all of your web scrapping process to the desired position on the `app.py`\n",
    "- Changing the title of the dasboard at `index.html`"
   ]
  },
  {
   "cell_type": "markdown",
   "metadata": {
    "id": "Xvqq7JtJAfVj"
   },
   "source": [
    "## Finishing This Notebook with Your Analysis and Conclusion\n",
    "\n",
    "First you can do start with making the data visualisation. "
   ]
  },
  {
   "cell_type": "markdown",
   "metadata": {
    "id": "GA4yHHSPAfVj"
   },
   "source": [
    "Based on the graph above, the trend volume of ETH is downtrend from 13th Sept until 13th October 2022. "
   ]
  },
  {
   "cell_type": "markdown",
   "metadata": {
    "id": "zde4NGUcAfVj"
   },
   "source": [
    "### Extra Challange\n",
    "\n",
    "This will be not included to the scoring. \n",
    "\n",
    "- You can create additional analysis from the data.\n",
    "- Implement it to the dashboard with at `app.py` dan `index.html`."
   ]
  }
 ],
 "metadata": {
  "colab": {
   "collapsed_sections": [],
   "provenance": []
  },
  "kernelspec": {
   "display_name": "Theia_Da",
   "language": "python",
   "name": "casptone_project"
  },
  "language_info": {
   "codemirror_mode": {
    "name": "ipython",
    "version": 3
   },
   "file_extension": ".py",
   "mimetype": "text/x-python",
   "name": "python",
   "nbconvert_exporter": "python",
   "pygments_lexer": "ipython3",
   "version": "3.10.4"
  }
 },
 "nbformat": 4,
 "nbformat_minor": 1
}
